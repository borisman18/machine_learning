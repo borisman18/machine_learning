{
 "cells": [
  {
   "cell_type": "code",
   "execution_count": 109,
   "metadata": {},
   "outputs": [],
   "source": [
    "from skimage.io import imread, imshow, show, imsave\n",
    "from skimage.transform import rotate, AffineTransform, warp, resize, downscale_local_mean\n",
    "import numpy as np\n",
    "\n",
    "img = imread('pic.jpg')\n",
    "\n",
    "def rotate(img, angle):\n",
    "    rotated_img = tr.rotate(img, angle)\n",
    "    imsave('rotated_img.png', rotated_img)\n",
    "\n",
    "def shift(img, vector):\n",
    "    transform = AffineTransform(translation=vector)\n",
    "    shifted = warp(img, transform, mode='wrap', preserve_range=True)\n",
    "    shifted = shifted.astype(img.dtype)\n",
    "    imsave('shifted_img.png', shifted)\n",
    "\n",
    "def resize_(img, dim):\n",
    "    imsave('resized_img.png', resize(img, (img.shape[0] // dim[0], img.shape[1] // dim[1]), anti_aliasing=True))\n",
    "\n",
    "def symmetry(img, axis):\n",
    "    if axis == 1:\n",
    "        imsave('symmetry_img.jpg', np.hstack((img, np.flip(img, axis))))\n",
    "    elif axis == 0:\n",
    "        imsave('symmetry_img.jpg', np.vstack((img, np.flip(img, axis))))\n",
    "    else:\n",
    "        ValueError\n",
    "\n",
    "def process(img, actions):\n",
    "    for action in actions:\n",
    "        if action[0] == 'rotate':\n",
    "            rotate(img, action[1])\n",
    "        elif action[0] == 'shift':\n",
    "            shift(img, action[1])\n",
    "        elif action[0] == 'resize':\n",
    "            resize_(img, action[1])\n",
    "        elif action[0] == 'symmetry':\n",
    "            symmetry(img, action[1])\n",
    "        else:\n",
    "            raise ValueError\n",
    "\n",
    "process(img, [\n",
    "    ('rotate', 30), \n",
    "    ('shift', (100, 100)),\n",
    "    ('resize', (3, 0.5)),\n",
    "    ('symmetry', 1)\n",
    "])"
   ]
  }
 ],
 "metadata": {
  "kernelspec": {
   "display_name": "Python 3",
   "language": "python",
   "name": "python3"
  },
  "language_info": {
   "codemirror_mode": {
    "name": "ipython",
    "version": 3
   },
   "file_extension": ".py",
   "mimetype": "text/x-python",
   "name": "python",
   "nbconvert_exporter": "python",
   "pygments_lexer": "ipython3",
   "version": "3.6.0"
  }
 },
 "nbformat": 4,
 "nbformat_minor": 2
}
